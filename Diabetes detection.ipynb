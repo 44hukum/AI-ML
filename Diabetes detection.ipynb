{
 "cells": [
  {
   "cell_type": "markdown",
   "id": "9e71441a",
   "metadata": {},
   "source": [
    "   ## Diabetes Prediction\n",
    "    "
   ]
  },
  {
   "cell_type": "code",
   "execution_count": null,
   "id": "f609b4c2",
   "metadata": {},
   "outputs": [],
   "source": [
    "#Imorting all the packages to work with classification\n",
    "import pandas as pd\n",
    "import numpy as np\n",
    "import seaborn as sns\n",
    "import matplotlib.pyplot as plt\n",
    "\n",
    "import warnings\n",
    "warnings.filterwarnings(\"ignore\")\n",
    "\n",
    "from sklearn.model_selection import train_test_split,GridSearchCV, cross_val_score\n",
    "from sklearn.linear_model import LogisticRegression\n",
    "from sklearn.ensemble import RandomForestClassifier\n",
    "from sklearn.tree import DecisionTreeClassifier\n",
    "from sklearn.metrics import classification_report\n",
    "from sklearn import metrics\n",
    "from sklearn.metrics import classification_report, accuracy_score, confusion_matrix"
   ]
  },
  {
   "cell_type": "markdown",
   "id": "01b71cba",
   "metadata": {},
   "source": [
    "\n"
   ]
  },
  {
   "cell_type": "code",
   "execution_count": 55,
   "id": "dde51e2b",
   "metadata": {},
   "outputs": [
    {
     "name": "stdout",
     "output_type": "stream",
     "text": [
      "(768, 9)\n"
     ]
    },
    {
     "data": {
      "text/html": [
       "<div>\n",
       "<style scoped>\n",
       "    .dataframe tbody tr th:only-of-type {\n",
       "        vertical-align: middle;\n",
       "    }\n",
       "\n",
       "    .dataframe tbody tr th {\n",
       "        vertical-align: top;\n",
       "    }\n",
       "\n",
       "    .dataframe thead th {\n",
       "        text-align: right;\n",
       "    }\n",
       "</style>\n",
       "<table border=\"1\" class=\"dataframe\">\n",
       "  <thead>\n",
       "    <tr style=\"text-align: right;\">\n",
       "      <th></th>\n",
       "      <th>Pregnancies</th>\n",
       "      <th>Glucose</th>\n",
       "      <th>BloodPressure</th>\n",
       "      <th>SkinThickness</th>\n",
       "      <th>Insulin</th>\n",
       "      <th>BMI</th>\n",
       "      <th>DiabetesPedigreeFunction</th>\n",
       "      <th>Age</th>\n",
       "      <th>Outcome</th>\n",
       "    </tr>\n",
       "  </thead>\n",
       "  <tbody>\n",
       "    <tr>\n",
       "      <th>0</th>\n",
       "      <td>6</td>\n",
       "      <td>148</td>\n",
       "      <td>72</td>\n",
       "      <td>35</td>\n",
       "      <td>0</td>\n",
       "      <td>33.6</td>\n",
       "      <td>0.627</td>\n",
       "      <td>50</td>\n",
       "      <td>1</td>\n",
       "    </tr>\n",
       "    <tr>\n",
       "      <th>1</th>\n",
       "      <td>1</td>\n",
       "      <td>85</td>\n",
       "      <td>66</td>\n",
       "      <td>29</td>\n",
       "      <td>0</td>\n",
       "      <td>26.6</td>\n",
       "      <td>0.351</td>\n",
       "      <td>31</td>\n",
       "      <td>0</td>\n",
       "    </tr>\n",
       "    <tr>\n",
       "      <th>2</th>\n",
       "      <td>8</td>\n",
       "      <td>183</td>\n",
       "      <td>64</td>\n",
       "      <td>0</td>\n",
       "      <td>0</td>\n",
       "      <td>23.3</td>\n",
       "      <td>0.672</td>\n",
       "      <td>32</td>\n",
       "      <td>1</td>\n",
       "    </tr>\n",
       "    <tr>\n",
       "      <th>3</th>\n",
       "      <td>1</td>\n",
       "      <td>89</td>\n",
       "      <td>66</td>\n",
       "      <td>23</td>\n",
       "      <td>94</td>\n",
       "      <td>28.1</td>\n",
       "      <td>0.167</td>\n",
       "      <td>21</td>\n",
       "      <td>0</td>\n",
       "    </tr>\n",
       "    <tr>\n",
       "      <th>4</th>\n",
       "      <td>0</td>\n",
       "      <td>137</td>\n",
       "      <td>40</td>\n",
       "      <td>35</td>\n",
       "      <td>168</td>\n",
       "      <td>43.1</td>\n",
       "      <td>2.288</td>\n",
       "      <td>33</td>\n",
       "      <td>1</td>\n",
       "    </tr>\n",
       "  </tbody>\n",
       "</table>\n",
       "</div>"
      ],
      "text/plain": [
       "   Pregnancies  Glucose  BloodPressure  SkinThickness  Insulin   BMI  \\\n",
       "0            6      148             72             35        0  33.6   \n",
       "1            1       85             66             29        0  26.6   \n",
       "2            8      183             64              0        0  23.3   \n",
       "3            1       89             66             23       94  28.1   \n",
       "4            0      137             40             35      168  43.1   \n",
       "\n",
       "   DiabetesPedigreeFunction  Age  Outcome  \n",
       "0                     0.627   50        1  \n",
       "1                     0.351   31        0  \n",
       "2                     0.672   32        1  \n",
       "3                     0.167   21        0  \n",
       "4                     2.288   33        1  "
      ]
     },
     "execution_count": 55,
     "metadata": {},
     "output_type": "execute_result"
    }
   ],
   "source": [
    "diabetes = pd.read_csv('diabetes.csv')\n",
    "print(diabetes.shape)\n",
    "diabetes.head()"
   ]
  },
  {
   "cell_type": "markdown",
   "id": "853dcec7",
   "metadata": {},
   "source": [
    "# Data understanding "
   ]
  },
  {
   "cell_type": "code",
   "execution_count": 56,
   "id": "0c9baeea",
   "metadata": {},
   "outputs": [
    {
     "data": {
      "text/html": [
       "<div>\n",
       "<style scoped>\n",
       "    .dataframe tbody tr th:only-of-type {\n",
       "        vertical-align: middle;\n",
       "    }\n",
       "\n",
       "    .dataframe tbody tr th {\n",
       "        vertical-align: top;\n",
       "    }\n",
       "\n",
       "    .dataframe thead th {\n",
       "        text-align: right;\n",
       "    }\n",
       "</style>\n",
       "<table border=\"1\" class=\"dataframe\">\n",
       "  <thead>\n",
       "    <tr style=\"text-align: right;\">\n",
       "      <th></th>\n",
       "      <th>Pregnancies</th>\n",
       "      <th>Glucose</th>\n",
       "      <th>BloodPressure</th>\n",
       "      <th>SkinThickness</th>\n",
       "      <th>Insulin</th>\n",
       "      <th>BMI</th>\n",
       "      <th>DiabetesPedigreeFunction</th>\n",
       "      <th>Age</th>\n",
       "      <th>Outcome</th>\n",
       "    </tr>\n",
       "  </thead>\n",
       "  <tbody>\n",
       "    <tr>\n",
       "      <th>count</th>\n",
       "      <td>768.000000</td>\n",
       "      <td>768.000000</td>\n",
       "      <td>768.000000</td>\n",
       "      <td>768.000000</td>\n",
       "      <td>768.000000</td>\n",
       "      <td>768.000000</td>\n",
       "      <td>768.000000</td>\n",
       "      <td>768.000000</td>\n",
       "      <td>768.000000</td>\n",
       "    </tr>\n",
       "    <tr>\n",
       "      <th>mean</th>\n",
       "      <td>3.845052</td>\n",
       "      <td>120.894531</td>\n",
       "      <td>69.105469</td>\n",
       "      <td>20.536458</td>\n",
       "      <td>79.799479</td>\n",
       "      <td>31.992578</td>\n",
       "      <td>0.471876</td>\n",
       "      <td>33.240885</td>\n",
       "      <td>0.348958</td>\n",
       "    </tr>\n",
       "    <tr>\n",
       "      <th>std</th>\n",
       "      <td>3.369578</td>\n",
       "      <td>31.972618</td>\n",
       "      <td>19.355807</td>\n",
       "      <td>15.952218</td>\n",
       "      <td>115.244002</td>\n",
       "      <td>7.884160</td>\n",
       "      <td>0.331329</td>\n",
       "      <td>11.760232</td>\n",
       "      <td>0.476951</td>\n",
       "    </tr>\n",
       "    <tr>\n",
       "      <th>min</th>\n",
       "      <td>0.000000</td>\n",
       "      <td>0.000000</td>\n",
       "      <td>0.000000</td>\n",
       "      <td>0.000000</td>\n",
       "      <td>0.000000</td>\n",
       "      <td>0.000000</td>\n",
       "      <td>0.078000</td>\n",
       "      <td>21.000000</td>\n",
       "      <td>0.000000</td>\n",
       "    </tr>\n",
       "    <tr>\n",
       "      <th>25%</th>\n",
       "      <td>1.000000</td>\n",
       "      <td>99.000000</td>\n",
       "      <td>62.000000</td>\n",
       "      <td>0.000000</td>\n",
       "      <td>0.000000</td>\n",
       "      <td>27.300000</td>\n",
       "      <td>0.243750</td>\n",
       "      <td>24.000000</td>\n",
       "      <td>0.000000</td>\n",
       "    </tr>\n",
       "    <tr>\n",
       "      <th>50%</th>\n",
       "      <td>3.000000</td>\n",
       "      <td>117.000000</td>\n",
       "      <td>72.000000</td>\n",
       "      <td>23.000000</td>\n",
       "      <td>30.500000</td>\n",
       "      <td>32.000000</td>\n",
       "      <td>0.372500</td>\n",
       "      <td>29.000000</td>\n",
       "      <td>0.000000</td>\n",
       "    </tr>\n",
       "    <tr>\n",
       "      <th>75%</th>\n",
       "      <td>6.000000</td>\n",
       "      <td>140.250000</td>\n",
       "      <td>80.000000</td>\n",
       "      <td>32.000000</td>\n",
       "      <td>127.250000</td>\n",
       "      <td>36.600000</td>\n",
       "      <td>0.626250</td>\n",
       "      <td>41.000000</td>\n",
       "      <td>1.000000</td>\n",
       "    </tr>\n",
       "    <tr>\n",
       "      <th>max</th>\n",
       "      <td>17.000000</td>\n",
       "      <td>199.000000</td>\n",
       "      <td>122.000000</td>\n",
       "      <td>99.000000</td>\n",
       "      <td>846.000000</td>\n",
       "      <td>67.100000</td>\n",
       "      <td>2.420000</td>\n",
       "      <td>81.000000</td>\n",
       "      <td>1.000000</td>\n",
       "    </tr>\n",
       "  </tbody>\n",
       "</table>\n",
       "</div>"
      ],
      "text/plain": [
       "       Pregnancies     Glucose  BloodPressure  SkinThickness     Insulin  \\\n",
       "count   768.000000  768.000000     768.000000     768.000000  768.000000   \n",
       "mean      3.845052  120.894531      69.105469      20.536458   79.799479   \n",
       "std       3.369578   31.972618      19.355807      15.952218  115.244002   \n",
       "min       0.000000    0.000000       0.000000       0.000000    0.000000   \n",
       "25%       1.000000   99.000000      62.000000       0.000000    0.000000   \n",
       "50%       3.000000  117.000000      72.000000      23.000000   30.500000   \n",
       "75%       6.000000  140.250000      80.000000      32.000000  127.250000   \n",
       "max      17.000000  199.000000     122.000000      99.000000  846.000000   \n",
       "\n",
       "              BMI  DiabetesPedigreeFunction         Age     Outcome  \n",
       "count  768.000000                768.000000  768.000000  768.000000  \n",
       "mean    31.992578                  0.471876   33.240885    0.348958  \n",
       "std      7.884160                  0.331329   11.760232    0.476951  \n",
       "min      0.000000                  0.078000   21.000000    0.000000  \n",
       "25%     27.300000                  0.243750   24.000000    0.000000  \n",
       "50%     32.000000                  0.372500   29.000000    0.000000  \n",
       "75%     36.600000                  0.626250   41.000000    1.000000  \n",
       "max     67.100000                  2.420000   81.000000    1.000000  "
      ]
     },
     "execution_count": 56,
     "metadata": {},
     "output_type": "execute_result"
    }
   ],
   "source": [
    "diabetes.describe()"
   ]
  },
  {
   "cell_type": "code",
   "execution_count": 57,
   "id": "7416d8bf",
   "metadata": {},
   "outputs": [
    {
     "data": {
      "text/plain": [
       "Pregnancies                 0\n",
       "Glucose                     0\n",
       "BloodPressure               0\n",
       "SkinThickness               0\n",
       "Insulin                     0\n",
       "BMI                         0\n",
       "DiabetesPedigreeFunction    0\n",
       "Age                         0\n",
       "Outcome                     0\n",
       "dtype: int64"
      ]
     },
     "execution_count": 57,
     "metadata": {},
     "output_type": "execute_result"
    }
   ],
   "source": [
    "diabetes.isnull().sum()"
   ]
  },
  {
   "cell_type": "markdown",
   "id": "be5a09c6",
   "metadata": {},
   "source": [
    "\n",
    "# Checking if the columns have 0 values\n",
    "\n"
   ]
  },
  {
   "cell_type": "code",
   "execution_count": 58,
   "id": "a7eda6a5",
   "metadata": {},
   "outputs": [
    {
     "name": "stdout",
     "output_type": "stream",
     "text": [
      "Pregnancies 111\n",
      "Glucose 5\n",
      "BloodPressure 35\n",
      "SkinThickness 227\n",
      "Insulin 374\n",
      "BMI 11\n",
      "DiabetesPedigreeFunction 0\n",
      "Age 0\n",
      "Outcome 500\n"
     ]
    }
   ],
   "source": [
    "#Glucose, skinthickness, blood pressure, BMI, and Insulin can never be zero.\n",
    "# To change that all zeros to null values now we fill replace/remove null values.\n",
    "#to mark missing values and results, and even default parameters\n",
    "for i in diabetes.columns:\n",
    "    print(i,len(diabetes[diabetes[i] == 0]))"
   ]
  },
  {
   "cell_type": "markdown",
   "id": "f92af2e0",
   "metadata": {},
   "source": [
    "# Replacing NAN with 0 values"
   ]
  },
  {
   "cell_type": "code",
   "execution_count": 59,
   "id": "4323ce2b",
   "metadata": {},
   "outputs": [
    {
     "data": {
      "text/plain": [
       "Pregnancies                   0\n",
       "Glucose                       5\n",
       "BloodPressure                35\n",
       "SkinThickness               227\n",
       "Insulin                     374\n",
       "BMI                          11\n",
       "DiabetesPedigreeFunction      0\n",
       "Age                           0\n",
       "Outcome                       0\n",
       "dtype: int64"
      ]
     },
     "execution_count": 59,
     "metadata": {},
     "output_type": "execute_result"
    }
   ],
   "source": [
    "diabetes[['Glucose', 'BloodPressure', 'SkinThickness', 'Insulin', 'BMI']] = diabetes[['Glucose', 'BloodPressure', 'SkinThickness', 'Insulin', 'BMI']].replace(0,np.nan)\n",
    "diabetes.isnull().sum()"
   ]
  },
  {
   "cell_type": "code",
   "execution_count": 60,
   "id": "13f55684",
   "metadata": {},
   "outputs": [
    {
     "data": {
      "text/plain": [
       "Pregnancies                 0\n",
       "Glucose                     0\n",
       "BloodPressure               0\n",
       "SkinThickness               0\n",
       "Insulin                     0\n",
       "BMI                         0\n",
       "DiabetesPedigreeFunction    0\n",
       "Age                         0\n",
       "Outcome                     0\n",
       "dtype: int64"
      ]
     },
     "execution_count": 60,
     "metadata": {},
     "output_type": "execute_result"
    }
   ],
   "source": [
    "diabetes = diabetes.fillna(method = 'ffill')\n",
    "diabetes = diabetes.fillna(method = 'bfill')\n",
    "diabetes.isnull().sum()"
   ]
  },
  {
   "cell_type": "markdown",
   "id": "4893f5bd",
   "metadata": {},
   "source": [
    "Data is clean let's move forward\n"
   ]
  },
  {
   "cell_type": "markdown",
   "id": "7e5ceb55",
   "metadata": {},
   "source": [
    "# 2. Data Visualization"
   ]
  },
  {
   "cell_type": "code",
   "execution_count": null,
   "id": "4b48335f",
   "metadata": {},
   "outputs": [],
   "source": [
    "# Plotting\n",
    "fig = plt.figure(figsize = (10,6))\n",
    "sns.barplot(x = 'Outcome', y = 'BloodPressure', data = diabetes)"
   ]
  },
  {
   "cell_type": "markdown",
   "id": "153a140d",
   "metadata": {},
   "source": [
    "Here, the higher bloodpressure has more chance of diabetes."
   ]
  },
  {
   "cell_type": "code",
   "execution_count": 61,
   "id": "a6e4e8f6",
   "metadata": {},
   "outputs": [
    {
     "data": {
      "text/plain": [
       "<AxesSubplot:xlabel='Outcome', ylabel='Insulin'>"
      ]
     },
     "execution_count": 61,
     "metadata": {},
     "output_type": "execute_result"
    },
    {
     "data": {
      "image/png": "[encoded data removed]",
      "text/plain": [
       "<Figure size 720x432 with 1 Axes>"
      ]
     },
     "metadata": {
      "needs_background": "light"
     },
     "output_type": "display_data"
    }
   ],
   "source": [
    "# Plotting\n",
    "fig = plt.figure(figsize = (10,6))\n",
    "sns.barplot(x = 'Outcome', y = 'Insulin', data = diabetes)"
   ]
  },
  {
   "cell_type": "markdown",
   "id": "02559ade",
   "metadata": {},
   "source": [
    "Higher the insulin, more chances of getting diabetes."
   ]
  },
  {
   "cell_type": "code",
   "execution_count": null,
   "id": "bcc2ae95",
   "metadata": {},
   "outputs": [],
   "source": [
    "# Plotting\n",
    "fig = plt.figure(figsize = (10,6))\n",
    "sns.barplot(x = 'Outcome', y = 'BMI', data = diabetes)"
   ]
  },
  {
   "cell_type": "markdown",
   "id": "bafe2a58",
   "metadata": {},
   "source": [
    "Chances of Diabeties increases with BMI"
   ]
  },
  {
   "cell_type": "markdown",
   "id": "3b0f25f8",
   "metadata": {},
   "source": [
    "# 3. Model Spliting"
   ]
  },
  {
   "cell_type": "code",
   "execution_count": null,
   "id": "bdb901eb",
   "metadata": {},
   "outputs": [],
   "source": [
    "#Spliiting into train and test data for making model.\n",
    "#here axis 0 represent row,axis 1 represent column\n",
    "X = diabetes.drop('Outcome', axis=1)\n",
    "y = diabetes['Outcome']"
   ]
  },
  {
   "cell_type": "code",
   "execution_count": null,
   "id": "4350091a",
   "metadata": {},
   "outputs": [],
   "source": [
    "#training set—a subset to train a model.\n",
    "#test set—a subset to test the trained model.\n",
    "X_train, X_test, y_train, y_test = train_test_split(X, y, test_size=0.3, random_state=42)\n",
    "X_train.head()\n"
   ]
  },
  {
   "cell_type": "code",
   "execution_count": null,
   "id": "2a5544b4",
   "metadata": {},
   "outputs": [],
   "source": [
    "y_train.head()"
   ]
  },
  {
   "cell_type": "code",
   "execution_count": null,
   "id": "e1e5cf16",
   "metadata": {},
   "outputs": [],
   "source": [
    "X_test.head()"
   ]
  },
  {
   "cell_type": "code",
   "execution_count": null,
   "id": "51e2ed2c",
   "metadata": {},
   "outputs": [],
   "source": [
    "y_test.head()"
   ]
  },
  {
   "cell_type": "markdown",
   "id": "2d9abe78",
   "metadata": {},
   "source": [
    "# Logistic Regression\n",
    "Predicting the probability of a categorical dependent variable with Logistic regresssion"
   ]
  },
  {
   "cell_type": "code",
   "execution_count": null,
   "id": "d43d8322",
   "metadata": {},
   "outputs": [],
   "source": [
    "model = LogisticRegression()\n",
    "model.fit(X_train,y_train)"
   ]
  },
  {
   "cell_type": "code",
   "execution_count": null,
   "id": "4498938d",
   "metadata": {},
   "outputs": [],
   "source": []
  },
  {
   "cell_type": "code",
   "execution_count": null,
   "id": "49e9da9a",
   "metadata": {},
   "outputs": [],
   "source": [
    "y_pred_lr = model.predict(X_test)\n",
    "\n",
    "print(metrics.classification_report(y_test, y_pred_lr))\n",
    "\n",
    "model_score = model.score(X_train,y_train)\n",
    "print(model_score)\n",
    "\n",
    "model_score = model.score(X_test,y_test)\n",
    "print(model_score)"
   ]
  },
  {
   "cell_type": "markdown",
   "id": "29552fb9",
   "metadata": {},
   "source": [
    "The Accuracy is 74%."
   ]
  },
  {
   "cell_type": "markdown",
   "id": "cad16acb",
   "metadata": {},
   "source": [
    "# 4.Random Forest Classifier"
   ]
  },
  {
   "cell_type": "code",
   "execution_count": null,
   "id": "5a36bc24",
   "metadata": {},
   "outputs": [],
   "source": [
    "print(len(X_train.columns))\n",
    "print(round(len(X_train.columns)**0.5,1))"
   ]
  },
  {
   "cell_type": "markdown",
   "id": "a95305dc",
   "metadata": {},
   "source": [
    "Here the max feature ranges between 2.8 and 8"
   ]
  },
  {
   "cell_type": "code",
   "execution_count": null,
   "id": "f6b125cf",
   "metadata": {},
   "outputs": [],
   "source": [
    "rfcl = RandomForestClassifier(n_estimators=50, random_state=42, max_features=4)\n",
    "rfcl = rfcl.fit(X_train, y_train)\n",
    "\n",
    "y_pred_rf = rfcl.predict(X_test)\n",
    "\n",
    "print(rfcl.score(X_test,y_test))"
   ]
  },
  {
   "cell_type": "code",
   "execution_count": null,
   "id": "e1b17928",
   "metadata": {},
   "outputs": [],
   "source": [
    "print(metrics.classification_report(y_test, y_pred_rf))"
   ]
  },
  {
   "cell_type": "markdown",
   "id": "808a5307",
   "metadata": {},
   "source": [
    "The Accuracy of RandomForest is also 74%"
   ]
  },
  {
   "cell_type": "code",
   "execution_count": null,
   "id": "0e724f70",
   "metadata": {},
   "outputs": [],
   "source": [
    "#For KNN classification\n",
    "from sklearn.neighbors import KNeighborsClassifier\n",
    "scoreListknn = []\n",
    "for i in range(1,21):\n",
    "    KNclassifier = KNeighborsClassifier(n_neighbors = i)\n",
    "    KNclassifier.fit(X_train, y_train)\n",
    "    scoreListknn.append(KNclassifier.score(X_test, y_test))\n",
    "\n",
    "plt.plot(range(1,21), scoreListknn)\n",
    "plt.xticks(np.arange(1,21,1))\n",
    "plt.xlabel(\"K value\")\n",
    "plt.ylabel(\"Score\")\n",
    "plt.show()\n",
    "KNAcc = max(scoreListknn)\n",
    "print(\"KNN best accuracy: {:.2f}%\".format(KNAcc*100))"
   ]
  },
  {
   "cell_type": "code",
   "execution_count": null,
   "id": "f69de2ec",
   "metadata": {},
   "outputs": [],
   "source": [
    "diabetes = {\"Model name\": [\"Logistic Regression\",\"KNN\", \"Random Forest Classifier\"], \"Accuracy(%)\": [\"74\", \"73.16\", \"74\"]}\n",
    "Comparision = pd.DataFrame(diabetes)\n",
    "Comparision"
   ]
  },
  {
   "cell_type": "markdown",
   "id": "9fc502e8",
   "metadata": {},
   "source": [
    "# GridSearchCV"
   ]
  },
  {
   "cell_type": "code",
   "execution_count": null,
   "id": "6aa55349",
   "metadata": {},
   "outputs": [],
   "source": [
    "#Finding best parameters for our Logistic classifier model\n",
    "from sklearn.model_selection import GridSearchCV, StratifiedKFold,StratifiedShuffleSplit\n",
    "C_vals = [0.2,0.3,0.4,0.5,0.6,0.7,0.8,0.9,1,2,3,4,5,6,7,8,9,10,12,13,14,15,16,16.5,17,17.5,18]\n",
    "## Choosing penalties(Lasso(l1) or Ridge(l2))\n",
    "penalties = ['l1','l2']\n",
    "\n",
    "## Choose a cross validation strategy. \n",
    "cv = StratifiedShuffleSplit(n_splits = 10,random_state=42, test_size = 0.25, train_size=None)\n",
    "\n",
    "## setting param for param_grid in GridSearchCV. \n",
    "param = {'penalty': penalties, 'C': C_vals}\n",
    "\n",
    "logreg = LogisticRegression(solver='liblinear')\n",
    "\n",
    "## Calling on GridSearchCV object. \n",
    "grid = GridSearchCV(estimator=LogisticRegression(), \n",
    "                           param_grid = param,\n",
    "                           scoring = 'accuracy',\n",
    "                            n_jobs =-1,\n",
    "                           cv = cv\n",
    "                          )\n",
    "## Fitting the model\n",
    "grid.fit(X, y)"
   ]
  },
  {
   "cell_type": "code",
   "execution_count": null,
   "id": "607b59f0",
   "metadata": {},
   "outputs": [],
   "source": [
    "## Getting the best of everything. \n",
    "print (grid.best_score_)\n",
    "print (grid.best_params_)\n",
    "print(grid.best_estimator_)"
   ]
  },
  {
   "cell_type": "code",
   "execution_count": null,
   "id": "58ecfee8",
   "metadata": {},
   "outputs": [],
   "source": [
    "### Using the best parameters from the grid-search for logistic regression.\n",
    "logreg_grid = grid.best_estimator_\n",
    "logreg_grid.score(X,y)"
   ]
  },
  {
   "cell_type": "markdown",
   "id": "8a5b1e8a",
   "metadata": {},
   "source": [
    "The accuracy increased from 74% to 77%"
   ]
  },
  {
   "cell_type": "markdown",
   "id": "723b553f",
   "metadata": {},
   "source": [
    "# random forest cross validation "
   ]
  },
  {
   "cell_type": "code",
   "execution_count": null,
   "id": "4dd17228",
   "metadata": {},
   "outputs": [],
   "source": [
    "rfcl_eval = cross_val_score(estimator = rfcl, X = X_train, y = y_train, cv = 10)\n",
    "rfcl_eval.mean()"
   ]
  },
  {
   "cell_type": "markdown",
   "id": "0784882a",
   "metadata": {},
   "source": [
    "The accuracy increased from 74% to 76%"
   ]
  },
  {
   "cell_type": "markdown",
   "id": "a70e64b5",
   "metadata": {},
   "source": [
    "# GridSearch CV"
   ]
  },
  {
   "cell_type": "code",
   "execution_count": null,
   "id": "73307dfb",
   "metadata": {},
   "outputs": [],
   "source": [
    "from sklearn.model_selection import GridSearchCV, StratifiedKFold, StratifiedShuffleSplit\n",
    "from sklearn.ensemble import RandomForestClassifier\n",
    "n_estimators = [140,145,150,155,160];\n",
    "max_depth = range(1,10);\n",
    "criterions = ['gini', 'entropy'];\n",
    "cv = StratifiedShuffleSplit(n_splits=10, test_size=.30, random_state=15)\n",
    "\n",
    "\n",
    "parameters = {'n_estimators':n_estimators,\n",
    "              'max_depth':max_depth,\n",
    "              'criterion': criterions\n",
    "              \n",
    "        }\n",
    "grid = GridSearchCV(estimator=RandomForestClassifier(max_features='auto'),\n",
    "                                 param_grid=parameters,\n",
    "                                 cv=cv,\n",
    "                                 n_jobs = -1)\n",
    "grid.fit(X,y)"
   ]
  },
  {
   "cell_type": "code",
   "execution_count": null,
   "id": "e5eb240c",
   "metadata": {},
   "outputs": [],
   "source": [
    "print( grid.best_params_)\n",
    "print (grid.best_score_)\n",
    "print (grid.best_estimator_)"
   ]
  },
  {
   "cell_type": "code",
   "execution_count": null,
   "id": "9afde719",
   "metadata": {},
   "outputs": [],
   "source": [
    "# rebuilding the model of random forest\n",
    "rf_grid = grid.best_estimator_\n",
    "rf_grid.score(X,y)"
   ]
  },
  {
   "cell_type": "markdown",
   "id": "cf0bdeba",
   "metadata": {},
   "source": [
    "Random forest accuracy increases from 77% to  87% using grid searchcv of random forest."
   ]
  },
  {
   "cell_type": "markdown",
   "id": "5bf50b55",
   "metadata": {},
   "source": [
    "# 5. Feature Selection"
   ]
  },
  {
   "cell_type": "code",
   "execution_count": null,
   "id": "f3babf7a",
   "metadata": {},
   "outputs": [],
   "source": [
    "# Necessary Imports\n",
    "from sklearn.ensemble import ExtraTreesClassifier\n",
    "clf = ExtraTreesClassifier(n_estimators=50)\n",
    "clf = clf.fit(X, y)\n",
    "clf.feature_importances_"
   ]
  },
  {
   "cell_type": "code",
   "execution_count": null,
   "id": "2d08df19",
   "metadata": {},
   "outputs": [],
   "source": [
    "from sklearn.feature_selection import SelectFromModel\n",
    "model = SelectFromModel(clf, prefit=True)\n",
    "features_new = model.transform(X)"
   ]
  },
  {
   "cell_type": "code",
   "execution_count": null,
   "id": "fef36c61",
   "metadata": {},
   "outputs": [],
   "source": [
    "features_new"
   ]
  },
  {
   "cell_type": "code",
   "execution_count": null,
   "id": "c56f9ab5",
   "metadata": {},
   "outputs": [],
   "source": [
    "features_new.shape"
   ]
  },
  {
   "cell_type": "markdown",
   "id": "3a8e2ce8",
   "metadata": {},
   "source": [
    "# 6. Rebuilding Model"
   ]
  },
  {
   "cell_type": "code",
   "execution_count": null,
   "id": "46b1c787",
   "metadata": {},
   "outputs": [],
   "source": [
    "# Random Forest Classifier\n",
    "rfc = RandomForestClassifier(bootstrap=True, class_weight=None, criterion='gini',\n",
    "                       max_depth=9, max_features='auto', max_leaf_nodes=None,\n",
    "                       min_impurity_decrease=0.0, min_impurity_split=None,\n",
    "                       min_samples_leaf=1, min_samples_split=2,\n",
    "                       min_weight_fraction_leaf=0.0, n_estimators=150,\n",
    "                       n_jobs=None, oob_score=False, random_state=None,\n",
    "                       verbose=0, warm_start=False)\n",
    "rfc.fit(X_train, y_train)\n",
    "pred_rfc = rfc.predict(X_test)"
   ]
  },
  {
   "cell_type": "code",
   "execution_count": null,
   "id": "62549a53",
   "metadata": {},
   "outputs": [],
   "source": [
    "# Logistic Regressor\n",
    "logreg = LogisticRegression(C=4, class_weight=None, dual=False, fit_intercept=True,\n",
    "                   intercept_scaling=1, l1_ratio=None, max_iter=100,\n",
    "                   multi_class='multinomial', n_jobs=None, penalty='l2',\n",
    "                   random_state=None,solver='sag', tol=0.0001, verbose=0,\n",
    "                   warm_start=False)\n",
    "logreg.fit(X_train,y_train)\n",
    "y_pred = logreg.predict(X_test)"
   ]
  },
  {
   "cell_type": "markdown",
   "id": "6e2a2f71",
   "metadata": {},
   "source": [
    "using two ML algorithm (Logistic Resgressor and Random Forest Classifier) initial accuracies were both 74%:-\n",
    "\n",
    "Logistic Regressor: model accuracy:- 74% Crossvallidation :- 76% Hyper tunning parameter using GridsearchCV:- LogisticRegression(C=4, class_weight=None, dual=False, fit_intercept=True, intercept_scaling=1, l1_ratio=None, max_iter=100, multi_class='warn', n_jobs=None, penalty='l1', random_state=None, solver='warn', tol=0.0001, verbose=0, warm_start=False) GridSearchCV best accuracy:-76%\n",
    "\n",
    "Random Forest Classifier:- model trained accuracy:- 74% Crossvalidation:- 87% Hyper tunning parameter using GridsearchCV: RandomForestClassifier(bootstrap=True, class_weight=None, criterion='gini', max_depth=9, max_features='auto', max_leaf_nodes=None, min_impurity_decrease=0.0, min_impurity_split=None, min_samples_leaf=1, min_samples_split=2, min_weight_fraction_leaf=0.0, n_estimators=150, n_jobs=None, oob_score=False, random_state=None, verbose=0, warm_start=False) Best accuracy:-87%"
   ]
  },
  {
   "cell_type": "raw",
   "id": "fad32792",
   "metadata": {},
   "source": [
    "# Conclusion: Hence,we have find the accuracy for logistis regression is 74% and that for crossvallidation is 76% and others is mention above.Likewise,we have taken all zeros to null values now we fill replace null value.After understanding the data we have analyze it and build model.Cross validation and hyper parameter is also done yo make prediction on data which are not used during training and to see the performance.The feature selection is also done so that we can reduce the number of variables that are input in the database in order to predict the targetted variable.\n"
   ]
  }
 ],
 "metadata": {
  "kernelspec": {
   "display_name": "Python 3 (ipykernel)",
   "language": "python",
   "name": "python3"
  },
  "language_info": {
   "codemirror_mode": {
    "name": "ipython",
    "version": 3
   },
   "file_extension": ".py",
   "mimetype": "text/x-python",
   "name": "python",
   "nbconvert_exporter": "python",
   "pygments_lexer": "ipython3",
   "version": "3.10.6"
  }
 },
 "nbformat": 4,
 "nbformat_minor": 5
}
