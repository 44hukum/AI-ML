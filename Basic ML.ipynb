{
 "cells": [
  {
   "cell_type": "code",
   "execution_count": 3,
   "metadata": {},
   "outputs": [],
   "source": [
    "# Importing all the necessary imports\n",
    "import pandas as pd\n",
    "import numpy as np\n"
   ]
  },
  {
   "cell_type": "code",
   "execution_count": 5,
   "metadata": {},
   "outputs": [
    {
     "data": {
      "text/html": [
       "<div>\n",
       "<style scoped>\n",
       "    .dataframe tbody tr th:only-of-type {\n",
       "        vertical-align: middle;\n",
       "    }\n",
       "\n",
       "    .dataframe tbody tr th {\n",
       "        vertical-align: top;\n",
       "    }\n",
       "\n",
       "    .dataframe thead th {\n",
       "        text-align: right;\n",
       "    }\n",
       "</style>\n",
       "<table border=\"1\" class=\"dataframe\">\n",
       "  <thead>\n",
       "    <tr style=\"text-align: right;\">\n",
       "      <th></th>\n",
       "      <th>Type</th>\n",
       "      <th>Price</th>\n",
       "      <th>Buy</th>\n",
       "    </tr>\n",
       "  </thead>\n",
       "  <tbody>\n",
       "    <tr>\n",
       "      <th>0</th>\n",
       "      <td>SUV</td>\n",
       "      <td>H</td>\n",
       "      <td>No</td>\n",
       "    </tr>\n",
       "    <tr>\n",
       "      <th>1</th>\n",
       "      <td>HB</td>\n",
       "      <td>H</td>\n",
       "      <td>No</td>\n",
       "    </tr>\n",
       "    <tr>\n",
       "      <th>2</th>\n",
       "      <td>HB</td>\n",
       "      <td>H</td>\n",
       "      <td>Yes</td>\n",
       "    </tr>\n",
       "    <tr>\n",
       "      <th>3</th>\n",
       "      <td>HB</td>\n",
       "      <td>L</td>\n",
       "      <td>No</td>\n",
       "    </tr>\n",
       "    <tr>\n",
       "      <th>4</th>\n",
       "      <td>SEDAN</td>\n",
       "      <td>H</td>\n",
       "      <td>Yes</td>\n",
       "    </tr>\n",
       "    <tr>\n",
       "      <th>5</th>\n",
       "      <td>SEDAN</td>\n",
       "      <td>L</td>\n",
       "      <td>Yes</td>\n",
       "    </tr>\n",
       "    <tr>\n",
       "      <th>6</th>\n",
       "      <td>SUV</td>\n",
       "      <td>L</td>\n",
       "      <td>No</td>\n",
       "    </tr>\n",
       "    <tr>\n",
       "      <th>7</th>\n",
       "      <td>SEDAN</td>\n",
       "      <td>H</td>\n",
       "      <td>Yes</td>\n",
       "    </tr>\n",
       "    <tr>\n",
       "      <th>8</th>\n",
       "      <td>HB</td>\n",
       "      <td>L</td>\n",
       "      <td>Yes</td>\n",
       "    </tr>\n",
       "    <tr>\n",
       "      <th>9</th>\n",
       "      <td>SUV</td>\n",
       "      <td>Hot</td>\n",
       "      <td>Yes</td>\n",
       "    </tr>\n",
       "  </tbody>\n",
       "</table>\n",
       "</div>"
      ],
      "text/plain": [
       "    Type Price  Buy\n",
       "0    SUV     H   No\n",
       "1     HB     H   No\n",
       "2     HB     H  Yes\n",
       "3     HB     L   No\n",
       "4  SEDAN     H  Yes\n",
       "5  SEDAN     L  Yes\n",
       "6    SUV     L   No\n",
       "7  SEDAN     H  Yes\n",
       "8     HB     L  Yes\n",
       "9    SUV   Hot  Yes"
      ]
     },
     "execution_count": 5,
     "metadata": {},
     "output_type": "execute_result"
    }
   ],
   "source": [
    "data = pd.read_csv('samplecar.csv')\n",
    "#let's see data\n",
    "data"
   ]
  },
  {
   "cell_type": "markdown",
   "metadata": {},
   "source": [
    "Replacing Hot with H as H shows the price"
   ]
  },
  {
   "cell_type": "code",
   "execution_count": 8,
   "metadata": {},
   "outputs": [
    {
     "data": {
      "text/html": [
       "<div>\n",
       "<style scoped>\n",
       "    .dataframe tbody tr th:only-of-type {\n",
       "        vertical-align: middle;\n",
       "    }\n",
       "\n",
       "    .dataframe tbody tr th {\n",
       "        vertical-align: top;\n",
       "    }\n",
       "\n",
       "    .dataframe thead th {\n",
       "        text-align: right;\n",
       "    }\n",
       "</style>\n",
       "<table border=\"1\" class=\"dataframe\">\n",
       "  <thead>\n",
       "    <tr style=\"text-align: right;\">\n",
       "      <th></th>\n",
       "      <th>Type</th>\n",
       "      <th>Price</th>\n",
       "      <th>Buy</th>\n",
       "    </tr>\n",
       "  </thead>\n",
       "  <tbody>\n",
       "    <tr>\n",
       "      <th>0</th>\n",
       "      <td>SUV</td>\n",
       "      <td>H</td>\n",
       "      <td>No</td>\n",
       "    </tr>\n",
       "    <tr>\n",
       "      <th>1</th>\n",
       "      <td>HB</td>\n",
       "      <td>H</td>\n",
       "      <td>No</td>\n",
       "    </tr>\n",
       "    <tr>\n",
       "      <th>2</th>\n",
       "      <td>HB</td>\n",
       "      <td>H</td>\n",
       "      <td>Yes</td>\n",
       "    </tr>\n",
       "    <tr>\n",
       "      <th>3</th>\n",
       "      <td>HB</td>\n",
       "      <td>L</td>\n",
       "      <td>No</td>\n",
       "    </tr>\n",
       "    <tr>\n",
       "      <th>4</th>\n",
       "      <td>SEDAN</td>\n",
       "      <td>H</td>\n",
       "      <td>Yes</td>\n",
       "    </tr>\n",
       "    <tr>\n",
       "      <th>5</th>\n",
       "      <td>SEDAN</td>\n",
       "      <td>L</td>\n",
       "      <td>Yes</td>\n",
       "    </tr>\n",
       "    <tr>\n",
       "      <th>6</th>\n",
       "      <td>SUV</td>\n",
       "      <td>L</td>\n",
       "      <td>No</td>\n",
       "    </tr>\n",
       "    <tr>\n",
       "      <th>7</th>\n",
       "      <td>SEDAN</td>\n",
       "      <td>H</td>\n",
       "      <td>Yes</td>\n",
       "    </tr>\n",
       "    <tr>\n",
       "      <th>8</th>\n",
       "      <td>HB</td>\n",
       "      <td>L</td>\n",
       "      <td>Yes</td>\n",
       "    </tr>\n",
       "    <tr>\n",
       "      <th>9</th>\n",
       "      <td>SUV</td>\n",
       "      <td>H</td>\n",
       "      <td>Yes</td>\n",
       "    </tr>\n",
       "  </tbody>\n",
       "</table>\n",
       "</div>"
      ],
      "text/plain": [
       "    Type Price  Buy\n",
       "0    SUV     H   No\n",
       "1     HB     H   No\n",
       "2     HB     H  Yes\n",
       "3     HB     L   No\n",
       "4  SEDAN     H  Yes\n",
       "5  SEDAN     L  Yes\n",
       "6    SUV     L   No\n",
       "7  SEDAN     H  Yes\n",
       "8     HB     L  Yes\n",
       "9    SUV     H  Yes"
      ]
     },
     "execution_count": 8,
     "metadata": {},
     "output_type": "execute_result"
    }
   ],
   "source": [
    "data = data.replace(to_replace=\"Hot\", value=\"H\")\n",
    "data"
   ]
  },
  {
   "cell_type": "code",
   "execution_count": 9,
   "metadata": {},
   "outputs": [],
   "source": [
    "#seperating features and target values\n",
    "features = data.iloc[:,:-1]\n",
    "target = data.iloc[:,-1:]\n",
    "assert features.shape[0] == target.shape[0], \" len(features) == len(target)\"\n"
   ]
  },
  {
   "cell_type": "code",
   "execution_count": 10,
   "metadata": {},
   "outputs": [],
   "source": [
    "tot = len(data)\n",
    "# taking total number of NO'S and Yes\n",
    "tot_n = data[data['Buy'] == 'No'].shape[0]\n",
    "tot_y =  data[data['Buy'] == 'Yes'].shape[0]\n"
   ]
  },
  {
   "cell_type": "code",
   "execution_count": 11,
   "metadata": {},
   "outputs": [
    {
     "data": {
      "text/plain": [
       "0.9709505944546686"
      ]
     },
     "execution_count": 11,
     "metadata": {},
     "output_type": "execute_result"
    }
   ],
   "source": [
    "prob_y = tot_y/tot\n",
    "prob_n = tot_n/tot\n",
    "e_tot = -(prob_y*np.log2(prob_y)) - (prob_n*np.log2(prob_n))\n",
    "#this gives the total entropy of the dataset\n",
    "e_tot"
   ]
  },
  {
   "cell_type": "markdown",
   "metadata": {},
   "source": [
    "calculating the respective average information that we get"
   ]
  },
  {
   "cell_type": "code",
   "execution_count": 12,
   "metadata": {},
   "outputs": [
    {
     "data": {
      "text/plain": [
       "array(['SUV', 'HB', 'SEDAN'], dtype=object)"
      ]
     },
     "execution_count": 12,
     "metadata": {},
     "output_type": "execute_result"
    }
   ],
   "source": [
    "data['Type'].unique()"
   ]
  },
  {
   "cell_type": "code",
   "execution_count": 14,
   "metadata": {},
   "outputs": [],
   "source": [
    "#The Dataset containes three types of cars that is SUV, HB, SEDAN\n",
    "#For SUV, there are 3 total samples in the dataset. Where yes=1 and no=2"
   ]
  },
  {
   "cell_type": "code",
   "execution_count": 15,
   "metadata": {},
   "outputs": [
    {
     "name": "stdout",
     "output_type": "stream",
     "text": [
      "Entropy : 0.9182958340544896\n",
      "Probability : 0.3\n"
     ]
    }
   ],
   "source": [
    "tot_suv = data[data['Type'] == 'SUV'].shape[0]\n",
    "p_suv_yes = len(data[(data.Type == 'SUV') & (data.Buy == 'Yes')])/tot_suv\n",
    "p_suv_no = len(data[(data.Type == 'SUV') & (data.Buy == 'No')])/tot_suv\n",
    "\n",
    "#calculating entropy\n",
    "e_suv = -(p_suv_yes*np.log2(p_suv_yes)) - (p_suv_no*np.log2(p_suv_no)) \n",
    "\n",
    "\n",
    "#probability of SUV in the dataset\n",
    "p_suv = tot_suv/tot\n",
    "\n",
    "\n",
    "print(f\"Entropy : {e_suv}\\nProbability : {p_suv}\")"
   ]
  },
  {
   "cell_type": "code",
   "execution_count": 16,
   "metadata": {},
   "outputs": [
    {
     "name": "stdout",
     "output_type": "stream",
     "text": [
      "Entropy : 1.0\n",
      "Probability : 0.4\n"
     ]
    }
   ],
   "source": [
    "#For \"HB\" there is 4 total samples in the dataset. Where yes=2 and no=2\n",
    "tot_HB = data[data['Type'] == 'HB'].shape[0]\n",
    "p_HB_y = len(data[(data.Type == 'HB') & (data.Buy == 'Yes')])/tot_HB\n",
    "p_HB_n = len(data[(data.Type == 'HB') & (data.Buy == 'No')])/tot_HB\n",
    "\n",
    "#calculating entropy \n",
    "e_hb = -(p_HB_y*np.log2(p_HB_y)) - (p_HB_n*np.log2(p_HB_n))\n",
    "\n",
    "#probability of HB in dataset\n",
    "p_hb = tot_HB/tot\n",
    "\n",
    "print(f\"Entropy : {e_hb}\\nProbability : {p_hb}\")"
   ]
  },
  {
   "cell_type": "code",
   "execution_count": 17,
   "metadata": {},
   "outputs": [
    {
     "name": "stdout",
     "output_type": "stream",
     "text": [
      "Entropy : -0.0\n",
      "Probability : 0.3\n"
     ]
    }
   ],
   "source": [
    "#For Sedan, there are 3 total samples in the dataset. Where yes=3 and no=1\n",
    "tot_sed = data[data['Type'] == 'SEDAN'].shape[0]\n",
    "p_sed_y = len(data[(data.Type == 'SEDAN') & (data.Buy == 'Yes')])/tot_sed\n",
    "p_sed_n = len(data[(data.Type == 'SEDAN') & (data.Buy == 'No')])/tot_sed\n",
    "\n",
    "#calculating entropy\n",
    "e_sed = -(p_sed_y*np.log2(p_sed_y)) - (p_sed_y*np.log2(p_sed_y))\n",
    "\n",
    "#probability of Sedan in dataset\n",
    "p_sed = tot_sed/tot\n",
    "\n",
    "print(f\"Entropy : {e_sed}\\nProbability : {p_sed}\")"
   ]
  },
  {
   "cell_type": "code",
   "execution_count": 18,
   "metadata": {},
   "outputs": [
    {
     "name": "stdout",
     "output_type": "stream",
     "text": [
      "Average Information for the Cartype\n",
      "I(cartype) = 0.6754887502163469\n"
     ]
    }
   ],
   "source": [
    "#Average Information\n",
    "I_cartype = p_suv * e_suv + p_hb * e_hb + p_sed * e_sed\n",
    "print(f\"Average Information for the Cartype\\nI(cartype) = {I_cartype}\")"
   ]
  },
  {
   "cell_type": "code",
   "execution_count": 19,
   "metadata": {},
   "outputs": [
    {
     "data": {
      "text/plain": [
       "array(['H', 'L'], dtype=object)"
      ]
     },
     "execution_count": 19,
     "metadata": {},
     "output_type": "execute_result"
    }
   ],
   "source": [
    "# For Car Price\n",
    "data['Price'].unique()"
   ]
  },
  {
   "cell_type": "code",
   "execution_count": 20,
   "metadata": {},
   "outputs": [
    {
     "name": "stdout",
     "output_type": "stream",
     "text": [
      "Entropy : 0.9182958340544896\n",
      "Probability : 0.6\n"
     ]
    }
   ],
   "source": [
    "#price for two categories i.e either# High or Low.\n",
    "#2.1. Entropy and Probability\n",
    "#For High, there is 6 total samples, where yes=4 and no=2\n",
    "tot_high = len(data[data.Price == 'H'])\n",
    "p_high_y = len(data[(data.Price == 'H') & (data.Buy == 'Yes')])/tot_high\n",
    "p_high_n = len(data[(data.Price == 'H') & (data.Buy == 'No')])/tot_high\n",
    "\n",
    "#entropy for high\n",
    "e_high = -(p_high_y *np.log2(p_high_y ))- (p_high_n*np.log2(p_high_n))\n",
    "\n",
    "#probability of High in dataaset\n",
    "p_high = tot_high/tot\n",
    "\n",
    "print(f\"Entropy : {e_high}\\nProbability : {p_high}\")"
   ]
  },
  {
   "cell_type": "code",
   "execution_count": 21,
   "metadata": {},
   "outputs": [
    {
     "name": "stdout",
     "output_type": "stream",
     "text": [
      "Entropy : 1.0\n",
      "Probability : 0.4\n"
     ]
    }
   ],
   "source": [
    "#For Low, there is 4 total samples, whhich has yes=2 and no=2\n",
    "tot_low = len(data[data.Price == 'L'])\n",
    "p_low_y = len(data[(data.Price == 'L') & (data.Buy == 'Yes')])/tot_low\n",
    "p_low_n = len(data[(data.Price == 'L') & (data.Buy == 'No')])/tot_low\n",
    "\n",
    "#entropy for low\n",
    "e_low = -(p_low_y *np.log2(p_low_y ))- (p_low_n*np.log2(p_low_n))\n",
    "\n",
    "#probability of High in dataaset\n",
    "p_low = tot_low/tot\n",
    "\n",
    "print(f\"Entropy : {e_low}\\nProbability : {p_low}\")"
   ]
  },
  {
   "cell_type": "code",
   "execution_count": 22,
   "metadata": {},
   "outputs": [
    {
     "name": "stdout",
     "output_type": "stream",
     "text": [
      "Average Information for the Price\n",
      "I(price) = 0.9509775004326937\n"
     ]
    }
   ],
   "source": [
    "#2.2. For Average Information\n",
    "I_price = p_high* e_high + p_low *e_low\n",
    "print(f\"Average Information for the Price\\nI(price) = {I_price}\")"
   ]
  },
  {
   "cell_type": "code",
   "execution_count": 23,
   "metadata": {},
   "outputs": [
    {
     "name": "stdout",
     "output_type": "stream",
     "text": [
      "Information Gain of Cartype : 0.29546184423832167\n"
     ]
    }
   ],
   "source": [
    "#Information Gain\n",
    "#Claculating Information gain of every arrtibute in the dataset.There is difference btween Entropy(S) data set and Average information for the each attribute of data.\n",
    "#1. For Car Type\n",
    "gain_att1 = e_tot - I_cartype\n",
    "print(f\"Information Gain of Cartype : {gain_att1}\")"
   ]
  },
  {
   "cell_type": "code",
   "execution_count": 24,
   "metadata": {},
   "outputs": [
    {
     "name": "stdout",
     "output_type": "stream",
     "text": [
      "Information Gain of Price : 0.01997309402197489\n"
     ]
    }
   ],
   "source": [
    "#2. For price of Car\n",
    "gain_att2 = e_tot - I_price\n",
    "print(f\"Information Gain of Price : {gain_att2}\")"
   ]
  },
  {
   "cell_type": "code",
   "execution_count": null,
   "metadata": {},
   "outputs": [],
   "source": [
    "# Here the  car type has high information gain (IG) so it can be used as the root node for our tree."
   ]
  }
 ],
 "metadata": {
  "kernelspec": {
   "display_name": "Python 3 (ipykernel)",
   "language": "python",
   "name": "python3"
  },
  "language_info": {
   "codemirror_mode": {
    "name": "ipython",
    "version": 3
   },
   "file_extension": ".py",
   "mimetype": "text/x-python",
   "name": "python",
   "nbconvert_exporter": "python",
   "pygments_lexer": "ipython3",
   "version": "3.9.7"
  }
 },
 "nbformat": 4,
 "nbformat_minor": 4
}
